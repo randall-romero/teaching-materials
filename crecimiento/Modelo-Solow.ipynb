{
 "cells": [
  {
   "cell_type": "markdown",
   "metadata": {},
   "source": [
    "<center>\n",
    "<div style=\"font-size:250%;color:white; background-color: #0064b0;\">El modelo de Solow y Swan</div>\n",
    "<div style=\"font-size:175%;color:white; background-color: #0064b0;\">Ejemplo interactivo con <i>Macrodemos</i></div>    \n",
    "\n",
    "</center>\n",
    "<br><br>\n",
    "<p style=\"font-size:120%;\">Este cuaderno instala (opcionalmente) el paquete macrodemos, con el cual podemos ejecutar una app interactiva que ilustra las propiedades del modelo Solow-Swan.</p>\n",
    "\n",
    "<b>Profesor:  Randall Romero Aguilar, PhD</b>\n",
    "    \n",
    "<i>Creado:     2020-Sep-01 \n",
    "    <br>\n",
    "    Actualizado: 2022-Mar-22</i>\n",
    "<hr>\n"
   ]
  },
  {
   "cell_type": "markdown",
   "metadata": {},
   "source": [
    "## Antes de empezar\n",
    "\n",
    "Si estás ejecutando este cuaderno de Jupyter en Google Colab, o bien lo estás ejecutando en tu computadora local pero aún no has instalado el paquete `macrodemos`, entonces necesitarás correr la siguiente celda:"
   ]
  },
  {
   "cell_type": "code",
   "execution_count": null,
   "metadata": {},
   "outputs": [],
   "source": [
    "!pip install macrodemos --upgrade"
   ]
  },
  {
   "cell_type": "markdown",
   "metadata": {},
   "source": [
    "Luego cargas el paquete `macrodemos` de la manera usual:"
   ]
  },
  {
   "cell_type": "code",
   "execution_count": null,
   "metadata": {},
   "outputs": [],
   "source": [
    "import macrodemos"
   ]
  },
  {
   "cell_type": "markdown",
   "metadata": {},
   "source": [
    "# Solow()"
   ]
  },
  {
   "cell_type": "markdown",
   "metadata": {},
   "source": [
    "Este demo está basado en uno similar (implementado con Excel) del libro **Introducción a la Macroeconomía Computacional** de Anelí Bongers Chicano, Trinidad Gómez Núñez, y José Luis Torres Chacón (ISBN-13: 978-8417332020).\n",
    "\n",
    "En este demo puedes realizar ejercicios de estática comparativa. En la pestaña **Simulations**, encontrarás 6 figuras que simulan las sendas de ajuste a cambios en una variable exógena o un parámetro:\n",
    "\n",
    "* Stock de capital, per capita\n",
    "* Producto per capita, \n",
    "* Ahorros per capita,\n",
    "* Consumo per capita,\n",
    "* Cambio en el stock de capital, y\n",
    "* Tasa de crecimiento de la producción\n",
    "\n",
    "En la pestaña **Equilibrium**, verás un diagrama que ilustra cómo se alcanza el equilibrio de estado estacionario.\n",
    "\n",
    "En la pestaña **Golden Rule**, verás cómo cambian el stock de capital, la producción, la inversión, y el consumo (todos en términos per capita) en respuesta a distintas tasas de ahorro.\n",
    "\n",
    "\n",
    "Puedes controlar los siguientes parámetros\n",
    "* $\\alpha =$ producto marginal del capital\n",
    "* $\\delta =$ tasa de depreciación\n",
    "* $n =$ tasa de crecimiento de la población\n",
    "* $A =$ productividad total de los factores\n",
    "* $s =$ tasa de ahorro\n",
    "\n",
    "Para cada uno de estos parámetros, los valores en la primera columna corresponden al escenario *base*, y los de la segunda columna especifican un escenario *alternativo*. "
   ]
  },
  {
   "cell_type": "code",
   "execution_count": null,
   "metadata": {},
   "outputs": [],
   "source": [
    "macrodemos.Solow()"
   ]
  },
  {
   "cell_type": "markdown",
   "metadata": {},
   "source": [
    "# Aviso\n",
    "\n",
    "Este programa fue desarrollado únicamente para fines pedagógicos. Si tienes algún comentario o sugerencia para futuros demos, por favor escríbeme un correo a randall.romero@ucr.ac.cr ."
   ]
  }
 ],
 "metadata": {
  "kernel_info": {
   "name": "python3"
  },
  "kernelspec": {
   "display_name": "Python 3 (ipykernel)",
   "language": "python",
   "name": "python3"
  },
  "language_info": {
   "codemirror_mode": {
    "name": "ipython",
    "version": 3
   },
   "file_extension": ".py",
   "mimetype": "text/x-python",
   "name": "python",
   "nbconvert_exporter": "python",
   "pygments_lexer": "ipython3",
   "version": "3.9.7"
  },
  "nteract": {
   "version": "0.28.0"
  },
  "toc-autonumbering": false,
  "toc-showtags": false
 },
 "nbformat": 4,
 "nbformat_minor": 4
}
