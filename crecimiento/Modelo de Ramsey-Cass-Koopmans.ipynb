{
 "cells": [
  {
   "cell_type": "markdown",
   "metadata": {},
   "source": [
    "# El modelo Ramsey-Cass-Koopmans de crecimiento económico\n",
    "\n",
    "**Randall Romero Aguilar, PhD**\n",
    "\n",
    "Este demo se base en uno similar (escrito en Matlab) del libro de texto  <a href=\"https://mitpress.mit.edu/books/applied-computational-economics-and-finance\">Computational Economics and Finance</a> (2001) de Mario Miranda y Paul Fackler.\n",
    "\n",
    "Para correr este archivo, es necesario contar con la versión Python de CompEcon. Puede instalarse con `pip` usando:\n",
    "\n",
    "    !pip install compecon --upgrade\n",
    "\n",
    "<i>Última actualización: 2021-Oct-12</i>\n",
    "<hr>"
   ]
  },
  {
   "cell_type": "markdown",
   "metadata": {
    "pycharm": {
     "name": "#%% md\n"
    },
    "tags": []
   },
   "source": [
    "## Acerca del modelo de RCK\n",
    "\n",
    "Se asume que la población (y el trabajo) crecen a la tasa $\\frac{\\dot{L}}{L}=\\xi$, y la productividad del trabajo a la tasa $\\frac{\\dot{Z}}{Z}=\\phi$.\n",
    "\n",
    "El problema del planificador social se escribe como\n",
    "\n",
    "\\begin{align*}\n",
    "V(k) &=\\max_c \\int_{0}^{\\infty} \\frac{c^{1-\\theta}}{1-\\theta} e^{-\\nu t} \\mathrm{d} t \\\\\n",
    "\\text{sujeto a } \\dot{k} &=f(k) - c - (\\phi + \\xi + \\delta) k\n",
    "\\end{align*}\n",
    "\n",
    "donde $\\nu=\\rho-(1- \\theta)\\phi$. El planificador debe decidir cuánto debe la sociedad consumir e invertir, dado el nivel de producción.\n",
    "\n",
    "La ecuación de Hamilton-Jacobi-Bellman es\n",
    "\n",
    "\\begin{equation*}\n",
    "\\nu V(k) = \\max_{c}\\left\\{u(c) + V'(k)[f(k) - c - (\\phi + \\xi + \\delta) k]\\right\\}\n",
    "\\end{equation*}\n",
    "\n",
    "La condición de primer orden es\n",
    "\n",
    "\\begin{align*}\n",
    "u'(c) &= V'(k) &(\\partial . /\\partial t)\\Rightarrow\\qquad u''(c)\\dot{c} &= V''(k)\\dot{k}\n",
    "\\end{align*}\n",
    "\n",
    "La condición de la envolvente es\n",
    "\n",
    "\\begin{align*}\n",
    "\\nu V'(k) &= V'(k)[f'(k)-(\\phi + \\xi + \\delta)] + V''(k)\\dot{k}\\\\\n",
    "V''(k)\\dot{k} &= -V'(k)[f'(k)-(\\phi + \\xi + \\delta) - \\nu] \n",
    "\\end{align*}\n",
    "\n",
    "En el óptimo, debe cumplirse este sistema de ecuaciones diferenciales:\n",
    "\n",
    "\\begin{align*}\n",
    "\\dot{c} &= \\tfrac{1}{\\rho}[f'(k)-(\\phi + \\xi + \\delta) - \\nu] c\\\\\n",
    "\\dot{k} &=f(k) - c - (\\phi + \\xi + \\delta) k\n",
    "\\end{align*}\n",
    "\n",
    "\n",
    "\n",
    "* Variable de estado\n",
    "  - k     stock de capital\n",
    "* Variable de control\n",
    "  - c     tasa de consumo\n",
    "* Parámetros\n",
    "  - 𝛼    participación del capital\n",
    "  - 𝛿    tasa de depreciación del capital\n",
    "  - 𝜃    aversión relativa al riesgo\n",
    "  - 𝜌    tasa continua de descuento\n",
    "  - 𝜙    tasa de crecimiento de la productividad del trabajo\n",
    "  - 𝜉    tasa de crecimiento de la población\n",
    "\n",
    "\n",
    "## Tareas preliminares\n",
    "\n",
    "### Importar los paquetes relevantes"
   ]
  },
  {
   "cell_type": "code",
   "execution_count": null,
   "metadata": {
    "collapsed": false,
    "jupyter": {
     "outputs_hidden": false
    },
    "pycharm": {
     "name": "#%%\n"
    }
   },
   "outputs": [],
   "source": [
    "import numpy as np\n",
    "import pandas as pd\n",
    "import matplotlib.pyplot as plt\n",
    "from compecon import BasisChebyshev, OCmodel, ODE"
   ]
  },
  {
   "cell_type": "markdown",
   "metadata": {},
   "source": [
    "## Crear una clase para representar el modelo"
   ]
  },
  {
   "cell_type": "code",
   "execution_count": null,
   "metadata": {},
   "outputs": [],
   "source": [
    "class RamseyCassKoopmans:\n",
    "    def __init__(self, 𝛼,𝛿,𝜃,𝜌,𝜙,𝜉):\n",
    "        self.𝛼 = 𝛼   # participación del capital\n",
    "        self.𝛿 = 𝛿   # tasa de depreciación del capital\n",
    "        self.𝜃 = 𝜃   # aversión relativa al riesgo\n",
    "        self.𝜌 = 𝜌   # tasa continua de descuento\n",
    "        self.𝜙 = 𝜙   # tasa de crecimiento de la productividad del trabajo\n",
    "        self.𝜉 = 𝜉   # tasa de crecimiento de la población\n",
    "        self.𝜈 = 𝜌-(1-𝜃)*𝜙 # tasa de descuento ajustada por crecimiento de la productividad\n",
    "        \n",
    "        self.f = lambda k: k**𝛼              # función de producción\n",
    "        self.df = lambda k: 𝛼*k**(𝛼-1)       # producto marginal\n",
    "        self.u = lambda c: c**(1-𝜃) / (1-𝜃)  # función de utilidad\n",
    "        self.du = lambda c: c**(-𝜃)          # utilidad marginal  \n",
    "        self.calcular_estado_estacionario()\n",
    "        \n",
    "    @property\n",
    "    def parámetros(self):\n",
    "        return self.𝛼, self.𝛿, self.𝜃, self.𝜌, self.𝜙, self.𝜉, self.𝜈\n",
    "    \n",
    "    def control(self, k, Vk):\n",
    "        𝜃 = self.𝜃\n",
    "        return Vk**(-1/𝜃)\n",
    "\n",
    "    def reward(self, k, c):\n",
    "        𝜃 = self.𝜃\n",
    "        return (1/(1-𝜃) * c**(1-𝜃))\n",
    "\n",
    "    def transition(self, k, c):\n",
    "        𝛼,𝛿,𝜃,𝜌,𝜙,𝜉,𝜈 = self.parámetros\n",
    "        return self.f(k) - (𝜙 + 𝜉 + 𝛿)*k - c\n",
    "    \n",
    "    def calcular_estado_estacionario(self):\n",
    "        𝛼,𝛿,𝜃,𝜌,𝜙,𝜉,𝜈 = self.parámetros\n",
    "        \n",
    "        kstar = (𝛼/(𝜙+𝜉+𝛿+𝜈))**(1/(1-𝛼))   # capital\n",
    "        cstar = self.𝑓(kstar) - (𝜙+𝜉+𝛿) * 𝑘star # consumo\n",
    "        vstar = self.u(cstar)/𝜈                 # valor\n",
    "        lstar = self.du(cstar)                 # precio sombra\n",
    "        ystar = self.f(kstar)                   #producción\n",
    "\n",
    "        self.estado_estacionario = pd.Series(\n",
    "            [kstar, cstar, vstar, lstar,ystar],\n",
    "            index=['Capital', 'Consumo', 'Función valor', 'Precio sombra', 'Producción'])\n",
    "    \n",
    "    def resolver(self, n, kmin, kmax):\n",
    "        # Estructura de aproximación\n",
    "        basis = BasisChebyshev(n, kmin, kmax, labels=['Capital'])  # base de Chebyshev\n",
    "        \n",
    "        # Valores iniciales para iteración\n",
    "        k = basis.nodes\n",
    "        basis.y = self.u(self.𝜈 * k)\n",
    "        \n",
    "        # Resolver el modelo por colocación\n",
    "        modelo = OCmodel(basis, self.control, self.reward, self.transition, rho=self.𝜈)\n",
    "        data = modelo.solve()\n",
    "        data.rename(columns={'control':'Consumo', 'value':'Valor', 'resid':'Residuo'}, inplace=True)\n",
    "        data['Producción'] = self.f(data['Capital'])\n",
    "        data['Tasa de ahorro'] = 1 - data['Consumo']/data['Producción']\n",
    "        data['Precio sombra'] = modelo.Value(data.index, 1)\n",
    "\n",
    "        self.solución = data\n",
    "        self.ode = modelo\n",
    "        \n",
    "    def simular(self, k0, T):\n",
    "        data = self.ode.simulate([k0], T)\n",
    "        data.rename(columns={'$y_0$': 'Capital', 'control':'Consumo'}, inplace=True)\n",
    "        data.index.name = 'tiempo'\n",
    "        data['Producción'] = self.f(data['Capital'])\n",
    "        self.simulación = data\n",
    "        \n",
    "        productividad = pd.Series(np.exp(modelo1.𝜙*data.index.values), index=data.index)\n",
    "        self.simulación_per_cápita = data.multiply(productividad, axis=0)\n",
    "        \n",
    "    def dxdt(self, x):\n",
    "        k, c = x\n",
    "        𝛼,𝛿,𝜃,𝜌,𝜙,𝜉,𝜈 = self.parámetros\n",
    "        cdot = (self.df(k) - (𝛿+𝜙+𝜉+𝜈)) * c / 𝜃\n",
    "        kdot = self.transition(k, c)\n",
    "        return np.array([kdot, cdot])\n",
    "    \n",
    "    def diagrama_fase(self, ax,klim, clim):\n",
    "        x0 = [self.estado_estacionario['Capital'], self.estado_estacionario['Consumo']]\n",
    "        \n",
    "        problem = ODE(self.dxdt,3,x0)\n",
    "        problem.rk4(n=1000)\n",
    "        problem.phase(klim, clim,\n",
    "              title='ODE Phase Diagram',\n",
    "              ax=ax,\n",
    "              animated=0\n",
    "             )\n",
    "        𝛼,𝛿,𝜃,𝜌,𝜙,𝜉,𝜈 = self.parámetros\n",
    "        kvals = np.linspace(*klim, 200)\n",
    "        ax.plot(self.solución['Capital'], self.solución['Consumo'], color='C0', label='Consumo óptimo')\n",
    "        ax.plot(kvals, self.f(kvals) - (𝜙 + 𝜉 + 𝛿)*kvals, ls='--',  color='C1', label='$\\dot{k}=0$')\n",
    "        ax.axvline(self.estado_estacionario['Capital'], ls='--',  color='C2', label='$\\dot{c}=0$')\n",
    "        ax.set(title='Diagrama de fase', xlabel='Capital', ylabel='Consumo')\n",
    "        ax.legend(bbox_to_anchor=(0.85, -0.15), ncol=3)"
   ]
  },
  {
   "cell_type": "markdown",
   "metadata": {},
   "source": [
    "## Resolver el modelo para un caso particular"
   ]
  },
  {
   "cell_type": "markdown",
   "metadata": {},
   "source": [
    "### Crear una instancia del modelo"
   ]
  },
  {
   "cell_type": "code",
   "execution_count": null,
   "metadata": {},
   "outputs": [],
   "source": [
    "modelo1 = RamseyCassKoopmans(𝛼 = 0.4, 𝛿 = 0.1,𝜃 = 2.0,𝜌 = 0.05,𝜙 = 0.03,𝜉 = 0.02)"
   ]
  },
  {
   "cell_type": "markdown",
   "metadata": {
    "tags": []
   },
   "source": [
    "### Estado estacionario"
   ]
  },
  {
   "cell_type": "code",
   "execution_count": null,
   "metadata": {},
   "outputs": [],
   "source": [
    "modelo1.estado_estacionario"
   ]
  },
  {
   "cell_type": "markdown",
   "metadata": {},
   "source": [
    "### Resolver la ecuación Hamilton-Jacobi-Bellman por colocación"
   ]
  },
  {
   "cell_type": "code",
   "execution_count": null,
   "metadata": {},
   "outputs": [],
   "source": [
    "n=21\n",
    "kmin=1\n",
    "kmax=7\n",
    "modelo1.resolver(n, kmin, kmax)\n",
    "modelo1.solución"
   ]
  },
  {
   "cell_type": "markdown",
   "metadata": {
    "tags": []
   },
   "source": [
    "## Graficar los resultados"
   ]
  },
  {
   "cell_type": "code",
   "execution_count": null,
   "metadata": {},
   "outputs": [],
   "source": [
    "kstar, cstar,vstar, lstar,ystar = modelo1.estado_estacionario # ['Capital', 'Consumo', 'Función valor', 'Precio sombra', 'Producción']\n",
    "klim = np.array([kmin, kmax])\n",
    "\n",
    "def indicar_estado_estacionario(ax, xstar, ystar, xlab, ylab):\n",
    "    xmin = ax.get_xlim()[0]\n",
    "    ymin = ax.get_ylim()[0]    \n",
    "    ax.hlines(ystar, xmin, xstar, colors=['gray'], linestyles=['--'])\n",
    "    ax.vlines(xstar, ymin, ystar, colors=['gray'], linestyles=['--'])\n",
    "    ax.annotate(ylab, (xmin, ystar))\n",
    "    ax.annotate(xlab, (xstar, ymin))\n",
    "    ax.plot(xstar, ystar, '.', ms=20);"
   ]
  },
  {
   "cell_type": "markdown",
   "metadata": {
    "tags": []
   },
   "source": [
    "### Política óptima"
   ]
  },
  {
   "cell_type": "code",
   "execution_count": null,
   "metadata": {
    "collapsed": false,
    "jupyter": {
     "outputs_hidden": false
    },
    "pycharm": {
     "name": "#%%\n"
    }
   },
   "outputs": [],
   "source": [
    "fig1, ax = plt.subplots()\n",
    "modelo1.solución['Consumo'].plot(ax=ax)\n",
    "ax.set(title='Política óptima de consumo',\n",
    "       ylabel='Tasa de consumo',\n",
    "       xlim=klim)\n",
    "ax.set_ylim(bottom=0)\n",
    "indicar_estado_estacionario(ax, kstar, cstar, '$k^*$','$c^*$') "
   ]
  },
  {
   "cell_type": "code",
   "execution_count": null,
   "metadata": {
    "collapsed": false,
    "jupyter": {
     "outputs_hidden": false
    },
    "pycharm": {
     "name": "#%%\n"
    }
   },
   "outputs": [],
   "source": [
    "fig2, ax = plt.subplots()\n",
    "modelo1.solución.plot(x='Producción', y='Consumo', ax=ax)\n",
    "ax.set(title='Política óptima de consumo',\n",
    "       xlabel='Producción',\n",
    "       ylabel='Tasa de consumo',\n",
    "       xlim=modelo1.f(klim))\n",
    "ax.set_ylim(bottom=0)\n",
    "indicar_estado_estacionario(ax, ystar, cstar, '$y^*$','$c^*$') "
   ]
  },
  {
   "cell_type": "code",
   "execution_count": null,
   "metadata": {},
   "outputs": [],
   "source": [
    "fig3, ax = plt.subplots()\n",
    "modelo1.solución.plot(ax=ax, x='Producción', y='Tasa de ahorro', legend=None)\n",
    "ax.set(title='Tasa óptima de ahorro',\n",
    "       xlabel='Producción',\n",
    "       ylabel='Tasa de ahorro',\n",
    "       xlim=modelo1.f(klim));"
   ]
  },
  {
   "cell_type": "markdown",
   "metadata": {
    "tags": []
   },
   "source": [
    "### Función Valor"
   ]
  },
  {
   "cell_type": "code",
   "execution_count": null,
   "metadata": {},
   "outputs": [],
   "source": [
    "fig4, ax = plt.subplots()\n",
    "modelo1.solución['Valor'].plot(ax=ax)\n",
    "ax.set(title='Función valor',\n",
    "       ylabel='$V(k)$',\n",
    "       xlim=klim)\n",
    "indicar_estado_estacionario(ax, kstar, vstar, '$k^*$','$V^*$') "
   ]
  },
  {
   "cell_type": "markdown",
   "metadata": {
    "tags": []
   },
   "source": [
    "### Precio sombra"
   ]
  },
  {
   "cell_type": "code",
   "execution_count": null,
   "metadata": {},
   "outputs": [],
   "source": [
    "fig5, ax = plt.subplots()\n",
    "modelo1.solución['Precio sombra'].plot(ax=ax)\n",
    "ax.set(title='Precio sombra',\n",
    "       ylabel=\"$V'(k)$\",\n",
    "       xlim=klim)\n",
    "ax.set_ylim(bottom=0)\n",
    "indicar_estado_estacionario(ax, kstar, lstar, '$k^*$',\"$V'^*$\") "
   ]
  },
  {
   "cell_type": "markdown",
   "metadata": {
    "tags": []
   },
   "source": [
    "### Residuo"
   ]
  },
  {
   "cell_type": "code",
   "execution_count": null,
   "metadata": {},
   "outputs": [],
   "source": [
    "fig6, ax = plt.subplots()\n",
    "modelo1.solución['Residuo'].plot(ax=ax)\n",
    "ax.set(title='Residuo',\n",
    "       ylabel='Residuo',\n",
    "       xlim=klim);"
   ]
  },
  {
   "cell_type": "markdown",
   "metadata": {
    "tags": []
   },
   "source": [
    "## Simular el modelo"
   ]
  },
  {
   "cell_type": "code",
   "execution_count": null,
   "metadata": {},
   "outputs": [],
   "source": [
    "T = 50\n",
    "modelo1.simular(kmin, T)\n",
    "modelo1.simulación"
   ]
  },
  {
   "cell_type": "markdown",
   "metadata": {},
   "source": [
    "### Graficar las sendas simuladas"
   ]
  },
  {
   "cell_type": "code",
   "execution_count": null,
   "metadata": {
    "collapsed": false,
    "jupyter": {
     "outputs_hidden": false
    },
    "pycharm": {
     "name": "#%%\n"
    }
   },
   "outputs": [],
   "source": [
    "fig7, axs = plt.subplots(3, 1, sharex=True)\n",
    "modelo1.simulación.plot(ax=axs, subplots=True)\n",
    "ax.set(title='Simulated Capital Stock and Rate of Consumption',\n",
    "       xlabel='Time',\n",
    "       ylabel='Quantity',\n",
    "       xlim=[0, T])\n",
    "\n",
    "i = 0\n",
    "for ax, xstar, lab in zip(axs.T, [kstar,cstar,ystar], ['$k^*$', '$c^*$', '$y^*$']):\n",
    "    ax.axhline(xstar, ls='--', c=f'C{i}')\n",
    "    ax.annotate(lab, (0, xstar), color=f'C{i}', va='top')\n",
    "    i+=1"
   ]
  },
  {
   "cell_type": "code",
   "execution_count": null,
   "metadata": {},
   "outputs": [],
   "source": [
    "fig8,ax = plt.subplots()\n",
    "modelo1.diagrama_fase(ax,klim=[1,7], clim=[0,2.5])"
   ]
  },
  {
   "cell_type": "code",
   "execution_count": null,
   "metadata": {},
   "outputs": [],
   "source": [
    "fig9, ax= plt.subplots()\n",
    "modelo1.simulación_per_cápita.plot(ax=ax)\n",
    "ax.set(title='Crecimiento de las variables per cápita',\n",
    "       ylabel='escala logarítmica',\n",
    "       yscale='log');"
   ]
  },
  {
   "cell_type": "markdown",
   "metadata": {},
   "source": [
    "# Dinámica comparativa: Efecto de aumentar la aversión al riesgo"
   ]
  },
  {
   "cell_type": "markdown",
   "metadata": {},
   "source": [
    "En nuestro escenario base, hemos asumido que el coeficiente de aversión al riesgo del consumidor es $\\theta=2$. ¿Cómo se afectaría la dinámica del consumo e ingreso per cápita, partiendo de las misma condición inicial, si los consumidores fuesen más aversos al riesgo, por ejemplo si $\\theta=3$?\n",
    "\n",
    "Para determinarlo, hacemos una nueva copia de la clase `RamseyCassKoopmans` y comparamos la solución de este escenario alternativo con la del escenario base:"
   ]
  },
  {
   "cell_type": "code",
   "execution_count": null,
   "metadata": {},
   "outputs": [],
   "source": [
    "modelo2 = RamseyCassKoopmans(𝛼 = 0.4, 𝛿 = 0.1, 𝜃 = 3.0, 𝜌 = 0.05,𝜙 = 0.03,𝜉 = 0.02)"
   ]
  },
  {
   "cell_type": "markdown",
   "metadata": {},
   "source": [
    "## Comparando el equilibrio de largo plazo"
   ]
  },
  {
   "cell_type": "markdown",
   "metadata": {},
   "source": [
    "El cambio en el estado estacionario es"
   ]
  },
  {
   "cell_type": "code",
   "execution_count": null,
   "metadata": {},
   "outputs": [],
   "source": [
    "escenarios = ['Escenario base', 'Mayor aversión al riesgo']\n",
    "\n",
    "# Juntamos el estado estacionario de los dos modelos en una tabla de pandas\n",
    "estados_estacionarios = pd.concat([modelo1.estado_estacionario, modelo2.estado_estacionario], keys=escenarios, axis=1)\n",
    "\n",
    "# Calculamos el cambio porcentual entre los dos escenarios\n",
    "estados_estacionarios[\"% cambio\"] = 100*(estados_estacionarios['Mayor aversión al riesgo'] / estados_estacionarios['Escenario base'] - 1)\n",
    "estados_estacionarios"
   ]
  },
  {
   "cell_type": "markdown",
   "metadata": {},
   "source": [
    "Vemos que al aumentar la aversión al riesgo el consumo de equilibrio de largo plazo cae en un 4.1%, mientras que la producción cae en 7.8% y el capital en 18.5%."
   ]
  },
  {
   "cell_type": "markdown",
   "metadata": {},
   "source": [
    "## Comparando la función de política"
   ]
  },
  {
   "cell_type": "code",
   "execution_count": null,
   "metadata": {},
   "outputs": [],
   "source": [
    "modelo2.resolver(n, kmin, kmax)\n",
    "\n",
    "# Juntamos la solución de los dos modelos en una sola tabla de pandas\n",
    "soluciones = pd.concat([modelo1.solución, modelo2.solución], keys=escenarios)\n",
    "\n",
    "# Graficamos el consumo\n",
    "soluciones['Consumo'].unstack(level=0).plot(title='Consumo');"
   ]
  },
  {
   "cell_type": "markdown",
   "metadata": {},
   "source": [
    "Vemos que para niveles bajos de capital (y consecuentemente de producción) la mayor aversión al riesgo lleva al consumidor a ahorrar menos, mientras que para niveles altos de capital el consumidor ahorra más que en el estado estacionario. Esto muestra que el consumidor trata de suavizar aún más su nivel de consumo."
   ]
  },
  {
   "cell_type": "markdown",
   "metadata": {},
   "source": [
    "## Comparando la dinámica de largo plazo del ingreso y consumos per cápita:"
   ]
  },
  {
   "cell_type": "code",
   "execution_count": null,
   "metadata": {},
   "outputs": [],
   "source": [
    "modelo2.simular(kmin, T)\n",
    "\n",
    "# Juntamos las simulaciones en una tabla de pandas\n",
    "simulaciones_per_cápita = pd.concat([modelo1.simulación_per_cápita, modelo2.simulación_per_cápita], keys=escenarios)\n",
    "\n",
    "# Calculamos el ahorro\n",
    "simulaciones_per_cápita['Ahorro'] = simulaciones_per_cápita['Producción'] - simulaciones_per_cápita['Consumo']\n",
    "\n",
    "# Creamos figura con dos ejes, para graficar todo en un solo objeto\n",
    "fig, axs = plt.subplots(3,1, figsize=[9,9], sharex=True)\n",
    "\n",
    "# Graficamos el consumo per cápita\n",
    "simulaciones_per_cápita['Consumo'].unstack(level=0).plot(ax=axs[0], title='Consumo per cápita')\n",
    "\n",
    "\n",
    "# Graficamos el consumo per cápita\n",
    "simulaciones_per_cápita['Ahorro'].unstack(level=0).plot(ax=axs[1], title='Ahorro per cápita')\n",
    "\n",
    "# Graficamos la producción per cápita\n",
    "simulaciones_per_cápita['Producción'].unstack(level=0).plot(ax=axs[2], title='Ingreso per cápita');"
   ]
  },
  {
   "cell_type": "markdown",
   "metadata": {},
   "source": [
    "Vemos que en cuando la aversión al riesgo es mayor, en su intento por suavizar más su consumo el consumidor ahorra menos que en el escenario base. Esto provoca que el capital se acumule más lentamente, a su vez causando que el ingreso per cápita crezca más lentamente. En el largo plazo, nótese que al ser el ahorro permanentemente inferior en el escenario de mayor aversión al riesgo, la producción per cápita crece más lentamente y eventualmente el consumo es **menor** que en el escenario base. "
   ]
  },
  {
   "cell_type": "markdown",
   "metadata": {},
   "source": [
    "# Ejercicios"
   ]
  },
  {
   "cell_type": "markdown",
   "metadata": {},
   "source": [
    "Tomando como punto de partida el ejemplo de análisis de dinámica comparativa anterior, determine los efectos sobre el crecimiento económico de los siguientes cambios en la economía. En todos los casos tome como punto de comparación el `modelo1`, el cual denominamos \"Escenario base\"."
   ]
  },
  {
   "cell_type": "markdown",
   "metadata": {},
   "source": [
    "## ¿Cómo cambia la dinámica del crecimiento si disminuye la productividad marginal del trabajo?\n",
    "\n",
    "Cambie $\\alpha=0.4$ a $\\alpha=0.3$."
   ]
  },
  {
   "cell_type": "code",
   "execution_count": null,
   "metadata": {},
   "outputs": [],
   "source": []
  },
  {
   "cell_type": "markdown",
   "metadata": {},
   "source": [
    "## ¿Cómo cambia la dinámica del crecimiento si disminuye el capital físico se deprecia más rápidamente?\n",
    "\n",
    "Cambie $\\delta=0.1$ a $\\delta=0.15$."
   ]
  },
  {
   "cell_type": "code",
   "execution_count": null,
   "metadata": {},
   "outputs": [],
   "source": []
  },
  {
   "cell_type": "markdown",
   "metadata": {},
   "source": [
    "## ¿Cómo cambia la dinámica del crecimiento si disminuye la impaciencia de los consumidores? Es decir, si descuentan la utilidad futura más lentamente.\n",
    "\n",
    "Cambie $\\rho=0.05$ a $\\rho=0.03$."
   ]
  },
  {
   "cell_type": "code",
   "execution_count": null,
   "metadata": {},
   "outputs": [],
   "source": []
  },
  {
   "cell_type": "markdown",
   "metadata": {},
   "source": [
    "## ¿Cómo cambia la dinámica del crecimiento si aumenta la tasa de crecimiento de la productividad del trabajo?\n",
    "\n",
    "Cambie $\\phi=0.03$ a $\\phi=0.04$."
   ]
  },
  {
   "cell_type": "code",
   "execution_count": null,
   "metadata": {},
   "outputs": [],
   "source": []
  },
  {
   "cell_type": "markdown",
   "metadata": {},
   "source": [
    "## ¿Cómo cambia la dinámica del crecimiento si disminuye la tasa de crecimiento de la población?\n",
    "\n",
    "Cambie $\\xi=0.02$ a $\\xi=0.01$."
   ]
  },
  {
   "cell_type": "code",
   "execution_count": null,
   "metadata": {},
   "outputs": [],
   "source": []
  }
 ],
 "metadata": {
  "kernelspec": {
   "display_name": "Python 3 (ipykernel)",
   "language": "python",
   "name": "python3"
  },
  "language_info": {
   "codemirror_mode": {
    "name": "ipython",
    "version": 3
   },
   "file_extension": ".py",
   "mimetype": "text/x-python",
   "name": "python",
   "nbconvert_exporter": "python",
   "pygments_lexer": "ipython3",
   "version": "3.8.5"
  },
  "toc-autonumbering": true
 },
 "nbformat": 4,
 "nbformat_minor": 4
}
