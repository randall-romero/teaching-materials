{
 "cells": [
  {
   "cell_type": "markdown",
   "metadata": {},
   "source": [
    "# Python for Economists\n",
    "<center>\n",
    "**Randall Romero-Aguilar PhD**\n",
    "<br>    \n",
    "[rromero@secmca.org](mailto:rromero@secmca.org)\n",
    "</center>    \n",
    "\n",
    "<br>\n",
    "<br>\n",
    "<p style=\"font-size:12px\">This article originally appeared in Spanish as [SECMCA Regional Economic Notes No. 93](http://www.secmca.org/NOTAS_ECONOMICAS/articulo93NOV2017.pdf) in December 2017.  This Jupyter notebook is a slightly modified version of the original, and was prepared on July 28, 2018.</p>\n"
   ]
  },
  {
   "cell_type": "markdown",
   "metadata": {},
   "source": [
    "The use of programming languages has become increasingly necessary in many of the tasks that we economist do, either because the theoretic models we develop lack analytic solutions, or because the new econometric estimator we wish to use is not yet available in a program with a graphical user interface (GUI, where we could just click with a mouse), or just because it is not efficient to analyze huge datasets with spreadsheets.\n",
    "\n",
    "<br>\n",
    "Those who wish to exploit the advantages of programming to do these tasks must first decide which of many programming languages to learn. For instance, to a greater or lesser extend the languages R, Python, Julia, Fortran, Gauss, and MATLAB are all used by economists. MATLAB has been especially popular in this field, and there are many tools that have been developed to be run in this program, among them [DYNARE](http://www.dynare.org/) and [IRIS](https://github.com/IRIS-Solutions-Team/IRIS-Toolbox/wiki/IRIS-Macroeconomic-Modeling-Toolbox) (to solve and estimate DSGE models), [CompEcon](http://www4.ncsu.edu/~pfackler/compecon/toolbox.html) (for computational economics), and [Econometrics](http://www.spatial-econometrics.com/) (for spacial econometrics).\n",
    "\n",
    "<br>\n",
    "Despite the fact that Python is not yet as popular as [MATLAB](https://www.mathworks.com) among economists, its popularity has certainly skyrocketed in recent years. For example, the following books use Python to do typical economists tasks:\n",
    "\n",
    "* [QuantEcon](http://www.quantecon.org/) by Thomas Sargent and John Stachurski.\n",
    "* [Economic Dynamics: Theory and Computation](http://www.amazon.com/dp/0262012774/ref=rdr_ext_tmb), by Stachurski.\n",
    "* [Python for Econometrics](http://www.kevinsheppard.com/Python_for_Econometrics), by Kevin Sheppard.\n",
    "\n",
    "<br>\n",
    "Python is a versatile and easy-to-learn language ---in fact [it is used extensively](http://m.cacm.acm.org/blogs/blog-cacm/176450-python-is-now-the-most-popular-introductory-teaching-language-at-top-us-universities/fulltext) in America's best universities to teach introductory programming courses. Its syntax is very clear, which makes developing and maintaining code easy. Because it is one of the most popular languages among computer programmers, there are abundant resources to learn it (books, Internet pages). It is an excellent tool to perform scientific calculation tasks (thanks to packages such as [Numpy](http://www.numpy.org/) and [Scipy](https://scipy.org/)), data management ([Pandas](http://pandas.pydata.org/)), visualization ([Matplotlib](http://matplotlib.org/)) and econometric modeling ([Statsmodels](http://www.statsmodels.org)).\n",
    "\n",
    "<br>\n",
    "Another advantage of using Python is that, unlike proprietary programs, Python and many of these complementary packages are completely free. The best way to get Python is through [Anaconda](https://www.continuum.io/downloads), a free distribution that includes more than 300 very useful packages in science, mathematics, engineering, and data analysis. Besides Python, Anaconda includes tools such as IPython (to run Python interactively), [Jupyter](http://jupyter.org/) (an editor that allows combining text, code and results in a single file, excellent for documenting your work), Spyder (a GUI for code editing, similar to that of MATLAB) and Conda (allows to install and update packages).\n",
    "\n",
    "<br>\n",
    "If you want to start working with Python, you should consider two issues. First, there are currently two versions of Python that are not entirely compatible with each other, the 2 (whose last update is 2.7) and the 3 (currently updated to 3.6). Personally, I recommend working with version 3.6 because it has significant improvements over version 2.7, and most of the packages needed to work in typical economists tasks have already been ported to 3.6.\n",
    "\n",
    "<br>\n",
    "Second, although Spyder facilitates code editing, more advanced users may prefer [PyCharm](https://www.jetbrains.com/pycharm/download/), an excellent Python editor whose “Community” version can be used for free. This editor makes it much easier to edit programs, because of features such as *autocomplete* (especially useful when we have not yet memorized Python functions), *syntax highlighting* (shows keywords in different color, to make it easier to understand the code's logic), and *debugger* (to partially run a program when it is necessary to find a bug).\n",
    "\n",
    "\n",
    "<br>\n",
    "The purpose of this note is to illustrate some of the common tasks that economists can do using Python. First, we use numerical techniques to solve two Cournot competition models presented by Miranda and Fackler (2002) using the \"CompEcon-python\" package (<small>This package was developed by the author and is based precisely on the *CompEcon toolbox*  for MATLAB from Miranda and Fackler</small>), which is freely available at [Github](https://github.com/randall-romero/CompEcon-python) (<small>Readers interested in the topic of computational economics will find more of these examples in Romero-Aguilar (2016)</small>). Second, it illustrates how to automate the collection of Internet data and its presentation in tables and graphs. Third, some examples of econometric models estimated with Python are shown.\n",
    "\n",
    "<br>\n",
    "For each of the problems, I provide Python code to solve it, along with brief explanations of how this code works. However, this note is not intended to teach programming in Python because, as mentioned above, there are already many high quality teaching resources for this purpose, including the site of [Google developers](https://developers.google.com/edu/python/), the site [learnpython](https://www.learnpython.org/), and several online courses at [edx](https://www.edx.org/course?search_query=python). Likewise, in the first two examples, the numerical methods implemented in Python are presented concisely, but readers interested in this topic are advised to consult the textbooks of Miranda and Fackler (2002), Judd (1998), and Press (2007)"
   ]
  },
  {
   "cell_type": "markdown",
   "metadata": {},
   "source": [
    "# Example 1: A 2-firms Cournot model\n",
    "\n",
    "<br>\n",
    "Assume the market is controlled by two firms that compete with each other. For this duopoly, the inverse of the demand function is given by\n",
    "\\begin{equation*}\n",
    "P(q) = q^{-\\alpha}\n",
    "\\end{equation*}\n",
    "and both firms face quadratic costs\n",
    "\\begin{align*}\n",
    "C_1 &= \\tfrac{1}{2}\\beta_1q_1^2 \\\\\n",
    "C_2 &= \\tfrac{1}{2}\\beta_2q_2^2 \n",
    "\\end{align*}\n",
    "\n",
    "Firms profits are\n",
    "\\begin{align*}\n",
    "\\pi_1\\left(q_1, q_2\\right) &=P\\left(q_1+q_2\\right)q_1 - C_1\\left(q_1\\right) \\\\\n",
    "\\pi_2\\left(q_1, q_2\\right) &=P\\left(q_1+q_2\\right)q_2 - C_2\\left(q_2\\right) \n",
    "\\end{align*}\n",
    "\n",
    "In a Cournot equilibrium, each firm maximizes its profits taking as given the other firm's output. Thus, it must follow that \n",
    "\\begin{align*}\n",
    "\\frac{\\partial \\pi_1\\left(q_1, q_2\\right)}{\\partial q_1} &= P\\left(q_1+q_2\\right) + P'\\left(q_1+q_2\\right)q_1 - C'_1\\left(q_1\\right) = 0\\\\\n",
    "\\frac{\\partial \\pi_2\\left(q_1, q_2\\right)}{\\partial q_2}  &= P\\left(q_1+q_2\\right) + P'\\left(q_1+q_2\\right)q_2 - C'_2\\left(q_2\\right) = 0\n",
    "\\end{align*}\n",
    "\n",
    "Therefore, equilibrium output levels for this market are given by the solution to this nonlinear equation system\n",
    "\\begin{equation} \\label{eq:fzero}\n",
    "f\\left(q_1, q_2\\right) = \\begin{bmatrix}\n",
    "\\left(q_1+q_2\\right)^{-\\alpha} - \\alpha q_1 \\left(q_1+q_2\\right)^{-\\alpha - 1} - \\beta_1q_1 \\\\\n",
    "\\left(q_1+q_2\\right)^{-\\alpha} - \\alpha q_2 \\left(q_1+q_2\\right)^{-\\alpha - 1} - \\beta_2q_2\\end{bmatrix} \n",
    "= \\begin{bmatrix}0 \\\\ 0\\end{bmatrix}\\tag{1}\n",
    "\\end{equation}"
   ]
  },
  {
   "cell_type": "markdown",
   "metadata": {},
   "source": [
    "## Newton's method\n",
    "To find the root of the function defined in (1) we will use Newton's method. In general, this method is applied to the function $f: \\Re^n \\to \\Re^n$ to find some (<small>Notice that, depending on the function, there could be more than one solution, or no solution at all.</small>) value $x^*$ such that $f(x^*)=0$. To that end, we start with a value $x_0 \\in \\Re^n$ and make the recursion\n",
    "\\begin{equation}\\label{eq:newton}\n",
    "x_{i+1} = x_i - J^{-1}(x_i) f(x_i) \\tag{2}\n",
    "\\end{equation}\n",
    "where $J(x_i)$ corresponds to the Jacobian of $f$ evaluated at $x_0$. In theory, following this recursion $x_i$ converges to $x^*$ as long as the $f$ function is continuously differentiable and the initial value $x_0$ is “sufficiently close” to the $x^*$ root."
   ]
  },
  {
   "cell_type": "markdown",
   "metadata": {},
   "source": [
    "## Solving the model with Python\n",
    "\n",
    "First, we begin a Python session and import `compecon`.  This package is available in pip, and can be installed by typing\n",
    "    \n",
    "    pip install compecon\n",
    "\n",
    "in a command window.    "
   ]
  },
  {
   "cell_type": "code",
   "execution_count": 1,
   "metadata": {},
   "outputs": [],
   "source": [
    "import numpy as np\n",
    "import matplotlib.pyplot as plt\n",
    "\n",
    "from compecon import NLP, gridmake\n",
    "from compecon.demos import demo"
   ]
  },
  {
   "cell_type": "markdown",
   "metadata": {},
   "source": [
    "To solve this model computationally, we need to assign values to the parameters, so we set $\\alpha=0.625$, $\\beta_1=0.6$ and $\\beta_2=0.8$. "
   ]
  },
  {
   "cell_type": "code",
   "execution_count": 2,
   "metadata": {},
   "outputs": [],
   "source": [
    "alpha = 0.625\n",
    "beta = np.array([0.6, 0.8])"
   ]
  },
  {
   "cell_type": "markdown",
   "metadata": {},
   "source": [
    "The unknowns in our problem are the firms' output levels, $q_1$ and $q_2$. We define the `market` function to tell us total output and resulting price, given the levels of $q_1$ y $q_2$. Notice that both quantities are passed to this function in the  `q` vector"
   ]
  },
  {
   "cell_type": "code",
   "execution_count": 3,
   "metadata": {},
   "outputs": [],
   "source": [
    "def market(q):\n",
    "    quantity = q.sum()\n",
    "    price = quantity ** (-alpha)\n",
    "    return price, quantity"
   ]
  },
  {
   "cell_type": "markdown",
   "metadata": {},
   "source": [
    "Then, we define the `cournot` function, returning a two-element tuple: the objective function and its Jacobian matrix, both evaluated in a pair of quantities contained by the `q` vector. To make the code easier, notice that the (1) function can be written more succinctly as\n",
    "\\begin{equation*} \n",
    "f\\left(q_1, q_2\\right) = \\begin{bmatrix}\n",
    "P + \\left(P' - c_1\\right)q_1 \\\\\n",
    "P + \\left(P' - c_2\\right)q_2\\end{bmatrix}\n",
    "= \\begin{bmatrix}0 \\\\ 0\\end{bmatrix}\n",
    "\\end{equation*}\n",
    "and its Jacobian matrix is\n",
    "\n",
    "\\begin{equation*} \n",
    "J\\left(q_1, q_2\\right) = \\begin{bmatrix}\n",
    "2P' + P''q_1 - c_1 & P' + P''q_1 \\\\\n",
    "P' - P''q_2 & 2P' + P''q_2 - c_2\\end{bmatrix}\n",
    "\\end{equation*}\n",
    "\n",
    "<br>\n",
    "If we define total output as $Q=q_1 + q_2$, notice also that \n",
    "\\begin{equation*}\n",
    "P' = -\\alpha\\frac{P}{Q} \\qquad\\text{y que} \\qquad P''=-(\\alpha+1)\\frac{P'}{Q}\n",
    "\\end{equation*}"
   ]
  },
  {
   "cell_type": "code",
   "execution_count": 4,
   "metadata": {},
   "outputs": [],
   "source": [
    "def cournot(q):\n",
    "    P, Q = market(q)\n",
    "    P1 = -alpha * P/Q\n",
    "    P2 = (-alpha - 1) * P1 / Q\n",
    "    fval = P + (P1 - beta) * q\n",
    "    fjac = np.diag(2*P1 + P2*q - beta) + np.fliplr(np.diag(P1 + P2*q))\n",
    "    return fval, fjac"
   ]
  },
  {
   "cell_type": "markdown",
   "metadata": {},
   "source": [
    "Next, we compute the equilibrium using Newton's method (equation (2)) to find the root of the `cournot` function. We set $q_0 = \\begin{bmatrix}0.2 & 0.2\\end{bmatrix}'$ as our initial value and iterate until the norm of the change between two successive values of the recursion is less than $10^{-10}$."
   ]
  },
  {
   "cell_type": "code",
   "execution_count": 5,
   "metadata": {},
   "outputs": [
    {
     "name": "stdout",
     "output_type": "stream",
     "text": [
      "\n",
      "Company 1 produces 0.8396 units, while company 2 produces 0.6888 units.\n",
      "Total production is 1.5284 and price is 0.7671\n"
     ]
    }
   ],
   "source": [
    "q = np.array([0.2, 0.2])\n",
    "\n",
    "for it in range(40):\n",
    "    f, J = cournot(q)\n",
    "    step = -np.linalg.solve(J, f)\n",
    "    q += step\n",
    "    if np.linalg.norm(step) < 1.e-10: break\n",
    "\n",
    "price, quantity = market(q)\n",
    "print(f'\\nCompany 1 produces {q[0]:.4f} units, while company 2 produces {q[1]:.4f} units.')\n",
    "print(f'Total production is {quantity:.4f} and price is {price:.4f}')"
   ]
  },
  {
   "cell_type": "markdown",
   "metadata": {},
   "source": [
    "After just five iterations, Newton's method converges to the solution, which Python prints to screen:\n",
    "```\n",
    "Company 1 produces 0.8396 units, while company 2 produces 0.6888 units.\n",
    "Total production is 1.5284 and price is 0.7671\n",
    "```\n",
    "\n",
    "<br>\n",
    "We see that the code has found the equilibrium to this market. \n",
    "\n",
    "<br>\n",
    "The `compecon` package provides the `NLP` (non-linear problem) class, useful to solve last problem without the need of coding Newton's algorithm. To use it, we create an instance of `NLP` from the `cournot` function, and simply call the `newton` method, using `q0` as initial value. "
   ]
  },
  {
   "cell_type": "code",
   "execution_count": 6,
   "metadata": {},
   "outputs": [
    {
     "name": "stdout",
     "output_type": "stream",
     "text": [
      "\n",
      "Company 1 produces 0.8396 units, while company 2 produces 0.6888 units.\n",
      "Total production is 1.5284 and price is 0.7671\n"
     ]
    }
   ],
   "source": [
    "q0 = np.array([0.2, 0.2])\n",
    "cournot_problem = NLP(cournot)\n",
    "q = cournot_problem.newton(q0)\n",
    "\n",
    "price, quantity = market(q)\n",
    "print(f'\\nCompany 1 produces {q[0]:.4f} units, while' +\n",
    " f' company 2 produces {q[1]:.4f} units.')\n",
    "print(f'Total production is {quantity:.4f} and price is {price:.4f}')"
   ]
  },
  {
   "cell_type": "markdown",
   "metadata": {},
   "source": [
    "After completing this code block, Python prints the following to screen:\n",
    "```\n",
    "Company 1 produces 0.8396 units, while company 2 produces 0.6888 units.\n",
    "Total production is 1.5284 and price is 0.7671\n",
    "```\n",
    "<br>\n",
    "As expected, we got the same result."
   ]
  },
  {
   "cell_type": "markdown",
   "metadata": {},
   "source": [
    "Figure 1 illustrates the problem we just solved, where the axes represent the output levels of each firm. The quasi-vertical white line represents the profit-maximizing output level for firm 1, taking the output of firm 2 as given. Similarly, the quasi-horizontal line represents the profit maximizing output level for firm 2, given firm 1 output. The solution to the problem corresponds to the intersection of these two lines. See also the path to convergence (blue line) from the initial $q_0 = \\begin{bmatrix}0.2 & 0.2\\end{bmatrix}'$ point to the solution."
   ]
  },
  {
   "cell_type": "markdown",
   "metadata": {},
   "source": [
    "##### Figure 1 Convergence of Newton's method"
   ]
  },
  {
   "cell_type": "code",
   "execution_count": 7,
   "metadata": {},
   "outputs": [
    {
     "data": {
      "image/png": "[encoded data removed]",
      "text/plain": [
       "<matplotlib.figure.Figure at 0x1d4d0d7b208>"
      ]
     },
     "metadata": {},
     "output_type": "display_data"
    }
   ],
   "source": [
    "n = 100\n",
    "q1 = np.linspace(0.1, 1.5, n)\n",
    "q2 = np.linspace(0.1, 1.5, n)\n",
    "z = np.array([cournot(q)[0] for q in gridmake(q1, q2).T]).T\n",
    "\n",
    "steps_options = {'marker': 'o',\n",
    "                 'color': (0.2, 0.2, .81),\n",
    "                 'linewidth': 2.5,\n",
    "                 'markersize': 9,\n",
    "                 'markerfacecolor': 'white',\n",
    "                 'markeredgecolor': 'red'}\n",
    "\n",
    "contour_options = {'levels': [0.0],\n",
    "                   'colors': 'white',\n",
    "                   'linewidths': 2.0}\n",
    "\n",
    "\n",
    "Q1, Q2 = np.meshgrid(q1, q2)\n",
    "Z0 = np.reshape(z[0], (n,n), order='F')\n",
    "Z1 = np.reshape(z[1], (n,n), order='F')\n",
    "\n",
    "methods = ['newton', 'broyden']\n",
    "cournot_problem.opts['maxit', 'maxsteps', 'all_x'] = 10, 0, True\n",
    "\n",
    "qmin, qmax = 0.1, 1.3\n",
    "x = cournot_problem.zero(method='newton')\n",
    "demo.figure(\"Convergence of Newton's method\", '$q_1$', '$q_2$',\n",
    "            [qmin, qmax], [qmin, qmax])\n",
    "plt.contour(Q1, Q2, Z0, **contour_options)\n",
    "plt.contour(Q1, Q2, Z1, **contour_options)\n",
    "\n",
    "plt.plot(*cournot_problem.x_sequence, **steps_options)\n",
    "\n",
    "demo.text(0.85, qmax, '$\\pi_1 = 0$', 'left', 'top')\n",
    "demo.text(qmax, 0.55, '$\\pi_2 = 0$', 'right', 'center')"
   ]
  },
  {
   "cell_type": "markdown",
   "metadata": {},
   "source": [
    "# Example 2: Solving an Cournot oligopoly model by collocation\n",
    "\n",
    "<br>\n",
    "To illustrate the implementation of the collocation method for implicit function problems, consider the case of a Cournot oligopoly. In the standard microeconomic model of the firm, the firm maximizes its profits by matching marginal revenue to marginal cost (MC). An oligopolistic firm, recognizing that its actions affect the price, knows that its marginal revenue is $p + q \\frac{dp}{dq}$, where $p$ is the price, $q$ the quantity produced, and $\\frac{dp}{dq}$ is the marginal impact of the product on the market price. Cournot's assumption is that the company acts as if none of its production changes would provoke a reaction from its competitors. This implies that:\n",
    "\\begin{equation}\n",
    "    \\frac{dp}{dq} = \\frac{1}{D'(p)} \\tag{3}\n",
    "\\end{equation}\n",
    "\n",
    "where $D(p)$ is the market demand curve.\n",
    "\n",
    "<br>\n",
    "Suppose we want to derive the firm's effective supply function, which specifies the amount $q = S(p)$ that it will supply at each price. The effective supply function of the firm is characterized by the functional equation\n",
    "\\begin{equation}\n",
    "    p + \\frac{S(p)}{D'(p)} - MC(S(p)) = 0 \\tag{4}\n",
    "\\end{equation}\n",
    "\n",
    "for every price $p>0$. In simple cases, this function can be found explicitly. However, in more complicated cases, there is no explicit solution. Suppose for example that demand and marginal cost are given by\n",
    "\\begin{equation*}\n",
    "D(p) = p^{-\\eta}  \\qquad\\qquad CM(q) = \\alpha\\sqrt{q} + q^2 \n",
    "\\end{equation*}\n",
    "\n",
    "so that the functional equation to be solved for $S(p)$ is\n",
    "\\begin{equation} \\label{eq:funcional}\n",
    "\\left[p - \\frac{S(p)p^{\\eta+1}}{\\eta}\\right] - \\left[\\alpha\\sqrt{S(p)} + S(p)^2\\right] = 0 \\tag{5}\n",
    "\\end{equation}"
   ]
  },
  {
   "cell_type": "markdown",
   "metadata": {},
   "source": [
    "## The collocation method\n",
    "In equation (5), the unknown is the supply *function* $S(p)$, which makes (5) and infinite-dimension equation. Instead of solving the equation directly, we will approximate its solution using $n$ Chebyshev polynomials $\\phi_i(x)$, which are defined recursively for $x \\in [0,1]$ as:\n",
    "\\begin{align*}\n",
    "\\phi_0(x) & = 1 \\\\\n",
    "\\phi_1(x) & = x \\\\\n",
    "\\phi_{k + 1}(p_i) & = 2x \\phi_k(x) - \\phi_{k-1}(x), \\qquad \\text{for} k = 1,2, \\dots\n",
    "\\end{align*}\n",
    "\n",
    "<br>\n",
    "In addition, instead of requiring that both sides of the equation be exactly equal over the entire domain of $p \\in \\Re^+$, we will choose $n$ Chebyshev nodes $p_i$ in the interval $[a, b]$:\n",
    "\\begin{equation} \\label{eq:chebynodes}\n",
    "p_i = \\frac{a + b}{2} + \\frac{ba}{2}\\ cos\\left(\\frac{n-i + 0.5}{n}\\pi\\right), \\qquad\\text{for } i = 1,2, \\dots, n  \\tag{6}\n",
    "\\end{equation}\n",
    "\n",
    "<br>\n",
    "Thus, the supply is approximated by\n",
    "\\begin{equation*}\n",
    "S(p_i) = \\sum_{k = 0}^{n-1} c_{k}\\phi_k(p_i)\n",
    "\\end{equation*}\n",
    "\n",
    "Substituting this last expression in (5) for each of the placement nodes (Chebyshev in this case) results in a non-linear system of $ n $ equations (one for each node) in $ n $ unknowns $ c_k $ (one for each polynomial of Cheybshev), which in principle can be solved by Newton's method, as in the last example. Thus, in practice, the system to be solved is\n",
    "\n",
    "\\begin{equation} \\label{eq:collocation}\n",
    "\\left[p_i - \\frac{\\left(\\sum_{k=0}^{n-1}c_{k}\\phi_k(p_i)\\right)p_i^{\\eta+1}}{\\eta}\\right] - \\left[\\alpha\\sqrt{\\sum_{k=0}^{n-1}c_{k}\\phi_k(p_i)} + \\left(\\sum_{k=0}^{n-1}c_{k}\\phi_k(p_i)\\right)^2\\right] = 0  \\tag{7}\n",
    "\\end{equation}\n",
    "\n",
    "for $i=1,2,\\dots,n$ and for $k=1,2,\\dots,n$."
   ]
  },
  {
   "cell_type": "markdown",
   "metadata": {},
   "source": [
    "## Solving the model withPython\n",
    "To solve this model we start a new Python session:"
   ]
  },
  {
   "cell_type": "code",
   "execution_count": 8,
   "metadata": {},
   "outputs": [],
   "source": [
    "import numpy as np\n",
    "import matplotlib.pyplot as plt\n",
    "\n",
    "from compecon import BasisChebyshev, NLP, nodeunif\n",
    "from compecon.demos import demo"
   ]
  },
  {
   "cell_type": "markdown",
   "metadata": {},
   "source": [
    "and set the $\\alpha$ and $\\eta$ parameters"
   ]
  },
  {
   "cell_type": "code",
   "execution_count": 9,
   "metadata": {},
   "outputs": [],
   "source": [
    "alpha, eta = 1.0, 3.5"
   ]
  },
  {
   "cell_type": "markdown",
   "metadata": {},
   "source": [
    "For convenience, we define a `lambda` function to represent the demand"
   ]
  },
  {
   "cell_type": "code",
   "execution_count": 10,
   "metadata": {},
   "outputs": [],
   "source": [
    "D = lambda p: p**(-eta)"
   ]
  },
  {
   "cell_type": "markdown",
   "metadata": {},
   "source": [
    "We will approximate the solution for prices in the $p\\in [\\frac{1}{2}, 2]$ interval, using 25 collocation nodes. The `compecon` library provides the `BasisChebyshev` class to make computations with Chebyshev bases:"
   ]
  },
  {
   "cell_type": "code",
   "execution_count": 11,
   "metadata": {},
   "outputs": [],
   "source": [
    "n, a, b =  25, 0.5, 2.0\n",
    "S = BasisChebyshev(n, a, b, labels=['price'], l=['supply'])"
   ]
  },
  {
   "cell_type": "markdown",
   "metadata": {},
   "source": [
    "Let's assume that our first guess is $S(p)=1$. To that end, we set the value of `S` to one in each of the nodes"
   ]
  },
  {
   "cell_type": "code",
   "execution_count": 12,
   "metadata": {},
   "outputs": [],
   "source": [
    "p = S.nodes\n",
    "S.y = np.ones_like(p)"
   ]
  },
  {
   "cell_type": "markdown",
   "metadata": {},
   "source": [
    "It is important to highlight that in this problem the unknowns are the $c_k$ coefficients from the Chebyshev basis; however, an object of  `BasisChebyshev` class automatically adjusts those coefficients so they are consistent with the values we set for the function at the nodes (here indicated by the `.y` property).\n",
    "\n",
    "<br>\n",
    "We are now ready to define the objective function, which we will call `resid`. This function takes as its argument a vector with the 25 Chebyshev basis coefficients and returns the left-hand side of the 25 equations defined by (7). "
   ]
  },
  {
   "cell_type": "code",
   "execution_count": 13,
   "metadata": {},
   "outputs": [],
   "source": [
    "def resid(c):\n",
    "    S.c = c  # update interpolation coefficients\n",
    "    q = S(p) # compute quantity supplied at price nodes\n",
    "    return p - q * (p ** (eta+1) / eta) - alpha * np.sqrt(q) - q ** 2"
   ]
  },
  {
   "cell_type": "markdown",
   "metadata": {},
   "source": [
    "Note that the `resid` function takes a single argument (the coefficients for the Chebyshev basis). All other parameters (`Q, p, eta, alpha` must be declared in the main script, where Python will find their values.\n",
    "\n",
    "<br>\n",
    "To use Newton's method, it is necessary to compute the Jacobian matrix of the function whose roots we are looking for. In certain occasions, like in the problem we are dealing with, coding the computation of this Jacobian matrix correctly can be quite cumbersome. The `NLP` class provides, besides the Newton's method (which we used in the last example), the Broyden's method, whose main appeal is that it does not require the coding of the Jacobian matrix (the method itself will approximate it)."
   ]
  },
  {
   "cell_type": "code",
   "execution_count": 14,
   "metadata": {},
   "outputs": [
    {
     "name": "stdout",
     "output_type": "stream",
     "text": [
      "Solving nonlinear equations by Broyden's method\n",
      "it    bstep  change\n",
      "--------------------\n",
      "   0     0  4.08e-01\n",
      "   1     0  8.95e-02\n",
      "   2     0  1.37e-02\n",
      "   3     0  2.01e-03\n",
      "   4     0  3.36e-04\n",
      "   5     0  8.11e-05\n",
      "   6     0  1.28e-05\n",
      "   7     0  2.80e-06\n",
      "   8     0  4.88e-07\n",
      "   9     0  7.55e-08\n",
      "  10     0  1.84e-08\n",
      "  11     0  1.88e-09\n",
      "  12     0  4.63e-10\n",
      "  13     0  5.88e-11\n",
      "  14     0  1.17e-11\n",
      "  15     0  2.48e-12\n",
      "  16     0  2.91e-13\n"
     ]
    }
   ],
   "source": [
    "cournot = NLP(resid)\n",
    "S.c = cournot.broyden(S.c, tol=1e-12, print=True)"
   ]
  },
  {
   "cell_type": "markdown",
   "metadata": {},
   "source": [
    "After 17 iterations, Broyden's method converges to the desired solution. We can visualize this in Figure 3, which shows the value of the function on 501 different points within the approximation interval. Notice that the residual plot crosses the horizontal axis 25 times; this occurs precisely at the collocation nodes (represented by red dots). This figure also shows the precision of the approximation: outside nodes, the function is within $5\\times10^{-11}$ units from zero.\n",
    "\n",
    "<br>\n",
    "One of the advantages of working with the `BasisChebyshev` class is that, once the collocation coefficients have been found, we can evaluate the supply function by calling the `S` object as if it were a Python function. Thus, for example, to find out the quantity supplied by the firm when the price is 1.2, we simply evaluate `print(S(1.2))`, which returns `0.4650`. We use this feature next to compute the effective supply curve when there are 5 identical firms in the market; the result is shown in Figure 2."
   ]
  },
  {
   "cell_type": "markdown",
   "metadata": {},
   "source": [
    "##### Figure 2 Supply and demand when there are 5 firms"
   ]
  },
  {
   "cell_type": "code",
   "execution_count": 15,
   "metadata": {},
   "outputs": [
    {
     "data": {
      "text/plain": [
       "<matplotlib.legend.Legend at 0x1d4d5ffad30>"
      ]
     },
     "execution_count": 15,
     "metadata": {},
     "output_type": "execute_result"
    },
    {
     "data": {
      "image/png": "[encoded data removed]",
      "text/plain": [
       "<matplotlib.figure.Figure at 0x1d4d5f6fcf8>"
      ]
     },
     "metadata": {},
     "output_type": "display_data"
    }
   ],
   "source": [
    "pplot = nodeunif(501, a, b)\n",
    "demo.figure('Cournot Effective Firm Supply Function', \n",
    "            'Quantity', 'Price', [0, 4], [a, b])\n",
    "plt.plot(5 * S(pplot), pplot, D(pplot), pplot)\n",
    "plt.legend(('Supply','Demand'))"
   ]
  },
  {
   "cell_type": "markdown",
   "metadata": {},
   "source": [
    "##### Figure 3: Approximation residuals for equation (5)\n",
    "\n",
    "This block generates Figure 3."
   ]
  },
  {
   "cell_type": "code",
   "execution_count": 16,
   "metadata": {},
   "outputs": [
    {
     "data": {
      "image/png": "[encoded data removed]",
      "text/plain": [
       "<matplotlib.figure.Figure at 0x1d4d5ffdf98>"
      ]
     },
     "metadata": {},
     "output_type": "display_data"
    }
   ],
   "source": [
    "p = pplot \n",
    "demo.figure('Residual Function for Cournot Problem',\n",
    "            'Quantity', 'Residual')\n",
    "plt.hlines(0, a, b, 'k', '--', lw=2)\n",
    "plt.plot(pplot, resid(S.c))\n",
    "plt.plot(S.nodes,np.zeros_like(S.nodes),'r*');"
   ]
  },
  {
   "cell_type": "markdown",
   "metadata": {},
   "source": [
    "##### Figure 4: Change in the effective supply as the number of firms increases\n",
    "We now plot the effective supply for a varying number of firms; the result is shown in Figure 4."
   ]
  },
  {
   "cell_type": "code",
   "execution_count": 17,
   "metadata": {},
   "outputs": [
    {
     "data": {
      "image/png": "[encoded data removed]",
      "text/plain": [
       "<matplotlib.figure.Figure at 0x1d4d5ffdeb8>"
      ]
     },
     "metadata": {},
     "output_type": "display_data"
    }
   ],
   "source": [
    "m = np.array([1, 3, 5, 10, 15, 20])\n",
    "demo.figure('Supply and Demand Functions', 'Quantity', 'Price', [0, 13])\n",
    "plt.plot(np.outer(S(pplot), m), pplot)\n",
    "plt.plot(D(pplot), pplot, linewidth=4, color='black')\n",
    "plt.legend(['m=1', 'm=3', 'm=5', 'm=10', 'm=15', 'm=20', 'demand']);"
   ]
  },
  {
   "cell_type": "markdown",
   "metadata": {},
   "source": [
    "In Figure 4 notice how the equilibrium price and quantity change as the number of firms increases. "
   ]
  },
  {
   "cell_type": "markdown",
   "metadata": {},
   "source": [
    "##### Figure 5: Equilibrium price as a function of the number of firms\n",
    "\n",
    "The last figure in this example (Figure 5), shows the equilibrium price as a function of the number of firms."
   ]
  },
  {
   "cell_type": "code",
   "execution_count": 18,
   "metadata": {},
   "outputs": [
    {
     "data": {
      "image/png": "[encoded data removed]",
      "text/plain": [
       "<matplotlib.figure.Figure at 0x1d4d5ec1630>"
      ]
     },
     "metadata": {},
     "output_type": "display_data"
    }
   ],
   "source": [
    "pp = (b + a) / 2\n",
    "dp = (b - a) / 2\n",
    "m  = np.arange(1, 26)\n",
    "for i in range(50):\n",
    "    dp /= 2\n",
    "    pp = pp - np.sign(S(pp) * m - D(pp)) * dp\n",
    "\n",
    "demo.figure('Cournot Equilibrium Price as Function of Industry Size', \n",
    "            'Number of Firms', 'Price')\n",
    "plt.bar(m, pp);"
   ]
  },
  {
   "cell_type": "markdown",
   "metadata": {},
   "source": [
    "# Example 3: Importing data from Internet\n",
    "\n",
    "<br>\n",
    "Oftentimes we need to keep track of some economic indicators. This work usually requires visiting the website of a data provider, looking for the required indicators, downloading the data (possibly in several different files), copying them to a common file, arranging them properly, and only after completing these cumbersome tasks, plotting them. If this work has to be done periodically then it is also necessary to thoroughly document each of these steps so we can replicate them exactly in the future. Needless to say, if it is necessary to do all these tasks with numerous indicators, the work ends up demanding a considerable amount of time and is prone to many errors.\n",
    "\n",
    "<br>\n",
    "To facilitate this work, we can use Python to download data available in Internet directly, thanks to packages such as [pandas-datareader](https://pandas-datareader.readthedocs.io/en/latest/index.html). This is easily done when data providers supply an API ---application program interface--- which specifies how a language like Python can find the desired data.\n",
    "\n",
    "<br>\n",
    "Let us illustrate this with an example. Suppose we want recent data on economic growth for the member countries of the CMCA. The World Bank provides the relevant data in its “World Database”, which we can read with the `wb` module from `pandas_datareader`."
   ]
  },
  {
   "cell_type": "code",
   "execution_count": 19,
   "metadata": {},
   "outputs": [],
   "source": [
    "from pandas_datareader import wb"
   ]
  },
  {
   "cell_type": "markdown",
   "metadata": {},
   "source": [
    "To be able to download data from the World Bank, we first need to know the exact code of the indicator we want to read. The first time we do this task we will not know this code, but we can look for it in the World Bank website or more easily from Python itself. For example, to find data on real GDP per capita, we run the following using the `.search` function:"
   ]
  },
  {
   "cell_type": "code",
   "execution_count": 20,
   "metadata": {},
   "outputs": [
    {
     "data": {
      "text/html": [
       "<div>\n",
       "<style scoped>\n",
       "    .dataframe tbody tr th:only-of-type {\n",
       "        vertical-align: middle;\n",
       "    }\n",
       "\n",
       "    .dataframe tbody tr th {\n",
       "        vertical-align: top;\n",
       "    }\n",
       "\n",
       "    .dataframe thead th {\n",
       "        text-align: right;\n",
       "    }\n",
       "</style>\n",
       "<table border=\"1\" class=\"dataframe\">\n",
       "  <thead>\n",
       "    <tr style=\"text-align: right;\">\n",
       "      <th></th>\n",
       "      <th>id</th>\n",
       "      <th>name</th>\n",
       "    </tr>\n",
       "  </thead>\n",
       "  <tbody>\n",
       "    <tr>\n",
       "      <th>646</th>\n",
       "      <td>6.0.GDPpc_constant</td>\n",
       "      <td>GDP per capita, PPP (constant 2011 internation...</td>\n",
       "    </tr>\n",
       "    <tr>\n",
       "      <th>7858</th>\n",
       "      <td>NY.GDP.PCAP.KD</td>\n",
       "      <td>GDP per capita (constant 2010 US$)</td>\n",
       "    </tr>\n",
       "    <tr>\n",
       "      <th>7860</th>\n",
       "      <td>NY.GDP.PCAP.KN</td>\n",
       "      <td>GDP per capita (constant LCU)</td>\n",
       "    </tr>\n",
       "    <tr>\n",
       "      <th>7862</th>\n",
       "      <td>NY.GDP.PCAP.PP.KD</td>\n",
       "      <td>GDP per capita, PPP (constant 2011 internation...</td>\n",
       "    </tr>\n",
       "    <tr>\n",
       "      <th>7863</th>\n",
       "      <td>NY.GDP.PCAP.PP.KD.87</td>\n",
       "      <td>GDP per capita, PPP (constant 1987 internation...</td>\n",
       "    </tr>\n",
       "  </tbody>\n",
       "</table>\n",
       "</div>"
      ],
      "text/plain": [
       "                        id                                               name\n",
       "646     6.0.GDPpc_constant  GDP per capita, PPP (constant 2011 internation...\n",
       "7858        NY.GDP.PCAP.KD                 GDP per capita (constant 2010 US$)\n",
       "7860        NY.GDP.PCAP.KN                      GDP per capita (constant LCU)\n",
       "7862     NY.GDP.PCAP.PP.KD  GDP per capita, PPP (constant 2011 internation...\n",
       "7863  NY.GDP.PCAP.PP.KD.87  GDP per capita, PPP (constant 1987 internation..."
      ]
     },
     "execution_count": 20,
     "metadata": {},
     "output_type": "execute_result"
    }
   ],
   "source": [
    "wb.search('gdp.*capita.*const').iloc[:,:2]"
   ]
  },
  {
   "cell_type": "markdown",
   "metadata": {},
   "source": [
    "where the dot followed by an asterisk (.\\*) indicates that any text in that position is a match. This function returns a data table with information about indicators that match the search criteria. In the preceding line, we use the code `.iloc[:,:2]` so that Python only prints the first two columns from that table.\n",
    "\n",
    "<br>\n",
    "After running that search, we choose the 'NY.GDP.PCAP.KD' indicator, whose description is “GDP per capita (constant 2010 US\\$)”. We define a variable with a list of country codes of the CMCA countries:"
   ]
  },
  {
   "cell_type": "code",
   "execution_count": 21,
   "metadata": {},
   "outputs": [],
   "source": [
    "paises = ['CR', 'DO', 'GT', 'HN', 'NI', 'SV']"
   ]
  },
  {
   "cell_type": "markdown",
   "metadata": {},
   "source": [
    "and we proceed to reed data from 1991:"
   ]
  },
  {
   "cell_type": "code",
   "execution_count": 22,
   "metadata": {},
   "outputs": [],
   "source": [
    "datos = wb.download(indicator='NY.GDP.PCAP.KD',\n",
    "                    country=paises,start=1991, end=2016)"
   ]
  },
  {
   "cell_type": "markdown",
   "metadata": {},
   "source": [
    "It is also possible to read data for more than one indicator in a single call to the `wb.download` function, writing their codes in a list (just like we did to read data on all six countries at once). In any case, we get a data table in panel format, where each columns corresponds to one of the indicators. For our example in particular, where we only read one indicator, it would be useful if the table was arranged so that each row correspond to a year and each column to a country. We can achieve it with this instruction:"
   ]
  },
  {
   "cell_type": "code",
   "execution_count": 23,
   "metadata": {},
   "outputs": [],
   "source": [
    "GDP = datos.reset_index().pivot('year','country')"
   ]
  },
  {
   "cell_type": "markdown",
   "metadata": {},
   "source": [
    "Once data is arrange this way, it is very easy to compute growth for all countries in a single step:"
   ]
  },
  {
   "cell_type": "code",
   "execution_count": 24,
   "metadata": {},
   "outputs": [],
   "source": [
    "GROWTH = 100 * GDP.pct_change()"
   ]
  },
  {
   "cell_type": "markdown",
   "metadata": {},
   "source": [
    "or to generate a formatted data table to be included in a \\LaTeX document"
   ]
  },
  {
   "cell_type": "code",
   "execution_count": 25,
   "metadata": {},
   "outputs": [
    {
     "name": "stdout",
     "output_type": "stream",
     "text": [
      "\\begin{tabular}{lrrrrrr}\n",
      "\\toprule\n",
      "{} & \\multicolumn{6}{l}{NY.GDP.PCAP.KD} \\\\\n",
      "country &     Costa Rica & Dominican Republic & El Salvador & Guatemala & Honduras & Nicaragua \\\\\n",
      "year &                &                    &             &           &          &           \\\\\n",
      "\\midrule\n",
      "2011 &           3.06 &               1.81 &        3.34 &      1.94 &     1.89 &      5.03 \\\\\n",
      "2012 &           3.59 &               1.42 &        2.34 &      0.80 &     2.24 &      5.24 \\\\\n",
      "2013 &           1.13 &               3.59 &        1.89 &      1.54 &     0.99 &      3.72 \\\\\n",
      "2014 &           2.40 &               6.35 &        1.49 &      2.03 &     1.29 &      3.60 \\\\\n",
      "2015 &           2.55 &               5.79 &        1.87 &      2.03 &     2.08 &      3.60 \\\\\n",
      "2016 &           3.10 &               5.41 &        2.06 &      1.04 &     2.02 &      3.50 \\\\\n",
      "\\bottomrule\n",
      "\\end{tabular}\n",
      "\n"
     ]
    }
   ],
   "source": [
    "#GROWTH.tail(6).round(2).to_latex('micuadro.tex')\n",
    "print(GROWTH.tail(6).round(2).to_latex())"
   ]
  },
  {
   "cell_type": "markdown",
   "metadata": {},
   "source": [
    "In last instruction, the `.tail(6)` part indicates that we only want the last six observations, while the `.to_latex('micuadro.tex')` part exports that table to a file named 'micuadro.tex', which can later te included in a document. The  result of this code will look similar to this:"
   ]
  },
  {
   "cell_type": "code",
   "execution_count": 26,
   "metadata": {},
   "outputs": [
    {
     "data": {
      "text/html": [
       "<div>\n",
       "<style scoped>\n",
       "    .dataframe tbody tr th:only-of-type {\n",
       "        vertical-align: middle;\n",
       "    }\n",
       "\n",
       "    .dataframe tbody tr th {\n",
       "        vertical-align: top;\n",
       "    }\n",
       "\n",
       "    .dataframe thead tr th {\n",
       "        text-align: left;\n",
       "    }\n",
       "\n",
       "    .dataframe thead tr:last-of-type th {\n",
       "        text-align: right;\n",
       "    }\n",
       "</style>\n",
       "<table border=\"1\" class=\"dataframe\">\n",
       "  <thead>\n",
       "    <tr>\n",
       "      <th></th>\n",
       "      <th colspan=\"6\" halign=\"left\">NY.GDP.PCAP.KD</th>\n",
       "    </tr>\n",
       "    <tr>\n",
       "      <th>country</th>\n",
       "      <th>Costa Rica</th>\n",
       "      <th>Dominican Republic</th>\n",
       "      <th>El Salvador</th>\n",
       "      <th>Guatemala</th>\n",
       "      <th>Honduras</th>\n",
       "      <th>Nicaragua</th>\n",
       "    </tr>\n",
       "    <tr>\n",
       "      <th>year</th>\n",
       "      <th></th>\n",
       "      <th></th>\n",
       "      <th></th>\n",
       "      <th></th>\n",
       "      <th></th>\n",
       "      <th></th>\n",
       "    </tr>\n",
       "  </thead>\n",
       "  <tbody>\n",
       "    <tr>\n",
       "      <th>2011</th>\n",
       "      <td>3.06</td>\n",
       "      <td>1.81</td>\n",
       "      <td>3.34</td>\n",
       "      <td>1.94</td>\n",
       "      <td>1.89</td>\n",
       "      <td>5.03</td>\n",
       "    </tr>\n",
       "    <tr>\n",
       "      <th>2012</th>\n",
       "      <td>3.59</td>\n",
       "      <td>1.42</td>\n",
       "      <td>2.34</td>\n",
       "      <td>0.80</td>\n",
       "      <td>2.24</td>\n",
       "      <td>5.24</td>\n",
       "    </tr>\n",
       "    <tr>\n",
       "      <th>2013</th>\n",
       "      <td>1.13</td>\n",
       "      <td>3.59</td>\n",
       "      <td>1.89</td>\n",
       "      <td>1.54</td>\n",
       "      <td>0.99</td>\n",
       "      <td>3.72</td>\n",
       "    </tr>\n",
       "    <tr>\n",
       "      <th>2014</th>\n",
       "      <td>2.40</td>\n",
       "      <td>6.35</td>\n",
       "      <td>1.49</td>\n",
       "      <td>2.03</td>\n",
       "      <td>1.29</td>\n",
       "      <td>3.60</td>\n",
       "    </tr>\n",
       "    <tr>\n",
       "      <th>2015</th>\n",
       "      <td>2.55</td>\n",
       "      <td>5.79</td>\n",
       "      <td>1.87</td>\n",
       "      <td>2.03</td>\n",
       "      <td>2.08</td>\n",
       "      <td>3.60</td>\n",
       "    </tr>\n",
       "    <tr>\n",
       "      <th>2016</th>\n",
       "      <td>3.10</td>\n",
       "      <td>5.41</td>\n",
       "      <td>2.06</td>\n",
       "      <td>1.04</td>\n",
       "      <td>2.02</td>\n",
       "      <td>3.50</td>\n",
       "    </tr>\n",
       "  </tbody>\n",
       "</table>\n",
       "</div>"
      ],
      "text/plain": [
       "        NY.GDP.PCAP.KD                                                    \\\n",
       "country     Costa Rica Dominican Republic El Salvador Guatemala Honduras   \n",
       "year                                                                       \n",
       "2011              3.06               1.81        3.34      1.94     1.89   \n",
       "2012              3.59               1.42        2.34      0.80     2.24   \n",
       "2013              1.13               3.59        1.89      1.54     0.99   \n",
       "2014              2.40               6.35        1.49      2.03     1.29   \n",
       "2015              2.55               5.79        1.87      2.03     2.08   \n",
       "2016              3.10               5.41        2.06      1.04     2.02   \n",
       "\n",
       "                   \n",
       "country Nicaragua  \n",
       "year               \n",
       "2011         5.03  \n",
       "2012         5.24  \n",
       "2013         3.72  \n",
       "2014         3.60  \n",
       "2015         3.60  \n",
       "2016         3.50  "
      ]
     },
     "execution_count": 26,
     "metadata": {},
     "output_type": "execute_result"
    }
   ],
   "source": [
    "GROWTH.tail(6).round(2)"
   ]
  },
  {
   "cell_type": "markdown",
   "metadata": {},
   "source": [
    "##### Figure 6: GDP per capita growth in CARD, 1992-2016\n",
    "Finally, we plot the results in Figure 6. It is possible to enhance the aesthetic aspect of this figure by, for example, changing the legend position. Such enhancements are not presented here for space considerations."
   ]
  },
  {
   "cell_type": "code",
   "execution_count": 27,
   "metadata": {},
   "outputs": [
    {
     "data": {
      "image/png": "[encoded data removed]",
      "text/plain": [
       "<matplotlib.figure.Figure at 0x1d4d5fba1d0>"
      ]
     },
     "metadata": {},
     "output_type": "display_data"
    }
   ],
   "source": [
    "GROWTH.columns = paises\n",
    "GROWTH.plot();"
   ]
  },
  {
   "cell_type": "markdown",
   "metadata": {},
   "source": [
    "##### Figure 7: GDP per capita growth in CARD, by country, 2011-2016\n",
    "\n",
    "It is also possible to plot each of the time series in a separate subplot, with the instruction"
   ]
  },
  {
   "cell_type": "code",
   "execution_count": 28,
   "metadata": {},
   "outputs": [
    {
     "data": {
      "image/png": "[encoded data removed]",
      "text/plain": [
       "<matplotlib.figure.Figure at 0x1d4d5ecc5f8>"
      ]
     },
     "metadata": {},
     "output_type": "display_data"
    }
   ],
   "source": [
    "GROWTH.plot(subplots=True, layout=[2,3], sharey=True);"
   ]
  },
  {
   "cell_type": "markdown",
   "metadata": {},
   "source": [
    "where we have specified that each time series should be plotted separately (`subplots=True`), be arranged in two rows and three columns (`layout=[2,3]`), and all subplots must have the same “y” axis (`sharey=True`, to facilitate country comparisons). "
   ]
  },
  {
   "cell_type": "markdown",
   "metadata": {},
   "source": [
    "# Example 4: Econometric estimations\n",
    "\n",
    "<br>\n",
    "The Python `statsmodels` package enable the estimation of many types of econometric models, although not as many as can be estimated using R. A simple illustration is the estimation of a Keynesian consumption function, \n",
    "\\begin{equation*}\n",
    "\\ln(c_t) = \\beta_0 + \\beta_1 \\ln(y_t) + \\epsilon_t\n",
    "\\end{equation*}\n",
    "\n",
    "where $c_t$ stands for consumption, $y_t$ income, $\\epsilon$ a stochastic shock. In this case $\\beta_1$ corresponds to the income elasticity of consumption.\n",
    "\n",
    "<br>\n",
    "Just like in the previous example, we will use `pandas-datareader` to import data from Internet. In this example we also import the `log` function from the `numpy` package to compute the logarithm of the data, as well as the `formula.api` module form `statsmodels` to estimate the model."
   ]
  },
  {
   "cell_type": "code",
   "execution_count": 29,
   "metadata": {},
   "outputs": [],
   "source": [
    "import pandas_datareader.data as web\n",
    "from numpy import log\n",
    "import statsmodels.formula.api as smf"
   ]
  },
  {
   "cell_type": "markdown",
   "metadata": {},
   "source": [
    "Once this is done, we are ready to import data. In this example, we use quarterly data on consumption and production in the United States, available in [FRED](https://fred.stlouisfed.org/), a database from the Federal Reserve Bank of Saint Louis. For “consumption” we use the “PCEC” (Personal Consumption Expenditures) series, and for “income” we use “GDP” (Gross Domestic Product)."
   ]
  },
  {
   "cell_type": "code",
   "execution_count": 30,
   "metadata": {},
   "outputs": [],
   "source": [
    "usdata = web.DataReader(['PCEC','GDP'],'fred', 1947, 2017)"
   ]
  },
  {
   "cell_type": "markdown",
   "metadata": {},
   "source": [
    "After executing this instuction, the `usdata` variable points to a `pandas` data table, in which each column corresponds to a variable and each row to a quarter. We now estimate the model by ordinary least squares (`.ols`) and print a summary of the results"
   ]
  },
  {
   "cell_type": "code",
   "execution_count": 31,
   "metadata": {},
   "outputs": [
    {
     "name": "stdout",
     "output_type": "stream",
     "text": [
      "                            OLS Regression Results                            \n",
      "==============================================================================\n",
      "Dep. Variable:                   PCEC   R-squared:                       1.000\n",
      "Model:                            OLS   Adj. R-squared:                  1.000\n",
      "Method:                 Least Squares   F-statistic:                 6.154e+05\n",
      "Date:                Sat, 28 Jul 2018   Prob (F-statistic):               0.00\n",
      "Time:                        18:27:34   Log-Likelihood:                 584.98\n",
      "No. Observations:                 281   AIC:                            -1166.\n",
      "Df Residuals:                     279   BIC:                            -1159.\n",
      "Df Model:                           1                                         \n",
      "Covariance Type:            nonrobust                                         \n",
      "==============================================================================\n",
      "                 coef    std err          t      P>|t|      [0.025      0.975]\n",
      "------------------------------------------------------------------------------\n",
      "Intercept     -0.6712      0.010    -64.053      0.000      -0.692      -0.651\n",
      "GDP            1.0268      0.001    784.505      0.000       1.024       1.029\n",
      "==============================================================================\n",
      "Omnibus:                       51.339   Durbin-Watson:                   0.075\n",
      "Prob(Omnibus):                  0.000   Jarque-Bera (JB):               85.582\n",
      "Skew:                           1.027   Prob(JB):                     2.61e-19\n",
      "Kurtosis:                       4.758   Cond. No.                         47.1\n",
      "==============================================================================\n",
      "\n",
      "Warnings:\n",
      "[1] Standard Errors assume that the covariance matrix of the errors is correctly specified.\n"
     ]
    }
   ],
   "source": [
    "mod = smf.ols('PCEC ~ GDP', log(usdata)).fit()\n",
    "print(mod.summary())"
   ]
  },
  {
   "cell_type": "markdown",
   "metadata": {},
   "source": [
    "Notice that the `.ols` function takes two arguments, the formula specifying the model, and the name of the data table containing the variables. In this code block we specify the data as `log(usdata)`, which tells Python that we want the logarithm of the data, saving us the task of generating another data table with the transformed data beforehand (as would be necessary in, for example, Stata). \n",
    "\n",
    "<br>\n",
    "Alternatively, that line can also be written as\n",
    "```\n",
    "mod = smf.ols('log(PCEC) ~ log(GDP)', usdata).fit()\n",
    "```\n",
    "which is convenient in cases where not all variables must be transformed.\n",
    "\n",
    "<br>\n",
    "As it is expected in a regression of trending time series, the $R^2$ statistic is very close to one, and the Durbin-Watson statistic points to the high possibility of autocorrelation in the residuals. This document does not aim at being a guide of best practices in econometrics, but let us consider one last model in which consumption growth depends on income growth:\n",
    "\\begin{equation*}\n",
    "\\Delta\\ln(c_t) = \\beta_0 + \\beta_1 \\Delta\\ln(y_t) + \\epsilon_t\n",
    "\\end{equation*}\n",
    "\n",
    "with we estimate in Python with"
   ]
  },
  {
   "cell_type": "code",
   "execution_count": 32,
   "metadata": {},
   "outputs": [
    {
     "data": {
      "text/html": [
       "<table class=\"simpletable\">\n",
       "<caption>OLS Regression Results</caption>\n",
       "<tr>\n",
       "  <th>Dep. Variable:</th>          <td>PCEC</td>       <th>  R-squared:         </th> <td>   0.490</td>\n",
       "</tr>\n",
       "<tr>\n",
       "  <th>Model:</th>                   <td>OLS</td>       <th>  Adj. R-squared:    </th> <td>   0.488</td>\n",
       "</tr>\n",
       "<tr>\n",
       "  <th>Method:</th>             <td>Least Squares</td>  <th>  F-statistic:       </th> <td>   267.2</td>\n",
       "</tr>\n",
       "<tr>\n",
       "  <th>Date:</th>             <td>Sat, 28 Jul 2018</td> <th>  Prob (F-statistic):</th> <td>1.50e-42</td>\n",
       "</tr>\n",
       "<tr>\n",
       "  <th>Time:</th>                 <td>18:27:34</td>     <th>  Log-Likelihood:    </th> <td>  996.74</td>\n",
       "</tr>\n",
       "<tr>\n",
       "  <th>No. Observations:</th>      <td>   280</td>      <th>  AIC:               </th> <td>  -1989.</td>\n",
       "</tr>\n",
       "<tr>\n",
       "  <th>Df Residuals:</th>          <td>   278</td>      <th>  BIC:               </th> <td>  -1982.</td>\n",
       "</tr>\n",
       "<tr>\n",
       "  <th>Df Model:</th>              <td>     1</td>      <th>                     </th>     <td> </td>   \n",
       "</tr>\n",
       "<tr>\n",
       "  <th>Covariance Type:</th>      <td>nonrobust</td>    <th>                     </th>     <td> </td>   \n",
       "</tr>\n",
       "</table>\n",
       "<table class=\"simpletable\">\n",
       "<tr>\n",
       "      <td></td>         <th>coef</th>     <th>std err</th>      <th>t</th>      <th>P>|t|</th>  <th>[0.025</th>    <th>0.975]</th>  \n",
       "</tr>\n",
       "<tr>\n",
       "  <th>Intercept</th> <td>    0.0063</td> <td>    0.001</td> <td>    8.747</td> <td> 0.000</td> <td>    0.005</td> <td>    0.008</td>\n",
       "</tr>\n",
       "<tr>\n",
       "  <th>GDP</th>       <td>    0.6130</td> <td>    0.038</td> <td>   16.346</td> <td> 0.000</td> <td>    0.539</td> <td>    0.687</td>\n",
       "</tr>\n",
       "</table>\n",
       "<table class=\"simpletable\">\n",
       "<tr>\n",
       "  <th>Omnibus:</th>       <td>102.218</td> <th>  Durbin-Watson:     </th> <td>   2.550</td> \n",
       "</tr>\n",
       "<tr>\n",
       "  <th>Prob(Omnibus):</th> <td> 0.000</td>  <th>  Jarque-Bera (JB):  </th> <td>1087.804</td> \n",
       "</tr>\n",
       "<tr>\n",
       "  <th>Skew:</th>          <td>-1.140</td>  <th>  Prob(JB):          </th> <td>6.11e-237</td>\n",
       "</tr>\n",
       "<tr>\n",
       "  <th>Kurtosis:</th>      <td>12.383</td>  <th>  Cond. No.          </th> <td>    90.9</td> \n",
       "</tr>\n",
       "</table>"
      ],
      "text/plain": [
       "<class 'statsmodels.iolib.summary.Summary'>\n",
       "\"\"\"\n",
       "                            OLS Regression Results                            \n",
       "==============================================================================\n",
       "Dep. Variable:                   PCEC   R-squared:                       0.490\n",
       "Model:                            OLS   Adj. R-squared:                  0.488\n",
       "Method:                 Least Squares   F-statistic:                     267.2\n",
       "Date:                Sat, 28 Jul 2018   Prob (F-statistic):           1.50e-42\n",
       "Time:                        18:27:34   Log-Likelihood:                 996.74\n",
       "No. Observations:                 280   AIC:                            -1989.\n",
       "Df Residuals:                     278   BIC:                            -1982.\n",
       "Df Model:                           1                                         \n",
       "Covariance Type:            nonrobust                                         \n",
       "==============================================================================\n",
       "                 coef    std err          t      P>|t|      [0.025      0.975]\n",
       "------------------------------------------------------------------------------\n",
       "Intercept      0.0063      0.001      8.747      0.000       0.005       0.008\n",
       "GDP            0.6130      0.038     16.346      0.000       0.539       0.687\n",
       "==============================================================================\n",
       "Omnibus:                      102.218   Durbin-Watson:                   2.550\n",
       "Prob(Omnibus):                  0.000   Jarque-Bera (JB):             1087.804\n",
       "Skew:                          -1.140   Prob(JB):                    6.11e-237\n",
       "Kurtosis:                      12.383   Cond. No.                         90.9\n",
       "==============================================================================\n",
       "\n",
       "Warnings:\n",
       "[1] Standard Errors assume that the covariance matrix of the errors is correctly specified.\n",
       "\"\"\""
      ]
     },
     "execution_count": 32,
     "metadata": {},
     "output_type": "execute_result"
    }
   ],
   "source": [
    "smf.ols('PCEC ~ GDP', log(usdata).diff()).fit().summary()"
   ]
  },
  {
   "cell_type": "markdown",
   "metadata": {},
   "source": [
    "We notice that now the $R^2$ is no longer close to one, and that the Durbin-Watson statistic is closer to 2.0, indicating lack of autocorrelation. \n",
    "\n",
    "<br>\n",
    "This last line of code, where we estimate the model with first-differenced data, highlights one of the reasons why code written in Python is so concise: it is not always necessary to store intermediate results in variable, because we can simply chain sevearal operations. In the case at hand, we have specified a model (`.ols`), estimated it (`.fit`) and gotten a table summarizing the results (`.summary`). Similarly, we have computed the logarithm (`log`) of data in `usdata` table, and to its result we have computed its first-difference (`.diff`). To better appreciate how concise this code is, let us compare that line with the following block, which takes 8 lines of code to perform the same operations:\n",
    "\n",
    "```\n",
    "usdata['lPCEC'] = log(usdata['PCEC'])\n",
    "usdata['lGDP'] = log(usdata['GDP'])\n",
    "usdata['dlPCEC'] = usdata['lPCEC'].diff()\n",
    "usdata['dlGDP'] = usdata['lGDP'].diff()\n",
    "model = smf.ols('dlPCEC ~ dlGDP', usdata)\n",
    "results = model.fit()\n",
    "table = results.summary()\n",
    "print(table)\n",
    "```\n",
    "\n",
    "\n",
    "With results from last Table  at hand, we could predict that a one percentage point (p.p.) increase in GDP growth  would lead to a 0.618 p.p. increase in consumption growth. However, given that the data sample covers such a long period (nearly 70 years of quarterly observation), it is reasonable to wonder whether the parameters in this model are constant, given that several structural changes could have occurred along these years. One way to evaluate such posibility is to estimate the model with a rolling sample. In particular, we are going to estimate this model with 24 quarterly observations rolling window, changing the sample by one quarter in every step.\n",
    "\n",
    "In this case, since we are going to need growth data many times, it is more efficient to compute growth data only once and store it in a `growth` variable. With the `[1:]` code we are dropping the first observation, which we lose when we compute the first-order difference (`.diff`). Furthermore, we use the `.shape` property from the table to find out how many observations  `T` we have, and then we set the window range to `h=24` observations:"
   ]
  },
  {
   "cell_type": "code",
   "execution_count": 33,
   "metadata": {},
   "outputs": [],
   "source": [
    "growth = (100*log(usdata).diff())[1:]\n",
    "T, nvar = growth.shape\n",
    "h = 24"
   ]
  },
  {
   "cell_type": "markdown",
   "metadata": {},
   "source": [
    "To faciliate next step, we define función `window_beta1`, which takes as its only argument the number of the last observation to be included in the estimation, and returns the value of the estimated GDP coefficient"
   ]
  },
  {
   "cell_type": "code",
   "execution_count": 34,
   "metadata": {},
   "outputs": [],
   "source": [
    "def window_beta1(k):\n",
    "    return smf.ols('PCEC~GDP',growth[k-h:k]).fit().params['GDP']"
   ]
  },
  {
   "cell_type": "markdown",
   "metadata": {},
   "source": [
    "With this, we are ready to estimate the model many times, adding the results to the `growth` table as the `beta1` “indicator”. Plotting the results we get Figure 8, where we clearly see that the effect of GDP growth on consumption growth is quite unstable, and thus the predictions made with the simple model could be very poor."
   ]
  },
  {
   "cell_type": "markdown",
   "metadata": {},
   "source": [
    "##### Figure 8: Estimated effect of income over consumption, 24-observation rolling windows"
   ]
  },
  {
   "cell_type": "code",
   "execution_count": 35,
   "metadata": {},
   "outputs": [
    {
     "data": {
      "image/png": "[encoded data removed]",
      "text/plain": [
       "<matplotlib.figure.Figure at 0x1d4d8cc2828>"
      ]
     },
     "metadata": {},
     "output_type": "display_data"
    }
   ],
   "source": [
    "growth.loc[h-1:,'beta1'] = [window_beta1(k) for k in range(h,T+1)]\n",
    "growth[['beta1']].plot();"
   ]
  },
  {
   "cell_type": "markdown",
   "metadata": {},
   "source": [
    "# Ejemplo 5: Documentos dinámicos\n",
    "\n",
    "<br>\n",
    "To conclude this note, I let the reader know that the original (PDF) version of this document is an example of what is known as a “dynamic document”, in the sense that it was generated by interweaving \\LaTeX code with Python code. The main benefit of this is that if in the future we need to update the previous examples (say to use updated data in the tables and graphs), it would suffice to rerun the code that generated that document (similarly to what we would do with this Jupyter notebook). It will not be necessary to use an Internet browser to get data, nor to copy-and-paste the graphs in the document.\n",
    "\n",
    "<br>\n",
    "Dynamic documents are extremely useful, because they enable significant time savings in the updating of periodic reports. Readers who are interested in learning how to create one of these documents will need to know \\LaTeX and to review the [pythontex](https://www.ctan.org/pkg/pythontex) documentation."
   ]
  },
  {
   "cell_type": "markdown",
   "metadata": {},
   "source": [
    "# References\n",
    "\n",
    "<br>\n",
    "Judd, Kenneth L. (1998). [Numerical Methods in Economics](https://mitpress.mit.edu/books/numerical-methods-economics). MIT Press. isbn: 978-0-262-\n",
    "10071-7.\n",
    "\n",
    "<br>\n",
    "Miranda, Mario J. and Paul L. Fackler (2002). [Applied Computational Economics and\n",
    "Finance](https://mitpress.mit.edu/books/applied-computational-economics-and-finance). MIT Press. isbn: 0-262-13420-9.\n",
    "\n",
    "<br>\n",
    "Press, William H., Saul A. Teukolsky, and William T. Vetterling and Brian P. Flannery\n",
    "(2007). [Numerical Recipes: The Art of Scientific Computing](http://www.numerical.recipes/). 3rd ed. Cambridge University Press. isbn: 978-0521880688.\n",
    "\n",
    "<br>\n",
    "Romero-Aguilar, Randall (2016). [CompEcon-Python](http://randall-romero.com/code/compecon/)\n",
    ". url: http://randall-romero.com/code/compecon/."
   ]
  }
 ],
 "metadata": {
  "kernelspec": {
   "display_name": "Python 3 (ipykernel)",
   "language": "python",
   "name": "python3"
  },
  "language_info": {
   "codemirror_mode": {
    "name": "ipython",
    "version": 3
   },
   "file_extension": ".py",
   "mimetype": "text/x-python",
   "name": "python",
   "nbconvert_exporter": "python",
   "pygments_lexer": "ipython3",
   "version": "3.8.5"
  }
 },
 "nbformat": 4,
 "nbformat_minor": 4
}
